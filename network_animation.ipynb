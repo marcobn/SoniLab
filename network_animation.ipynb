{
 "cells": [
  {
   "cell_type": "markdown",
   "metadata": {},
   "source": [
    "# Network animation using networkx and fury"
   ]
  },
  {
   "cell_type": "markdown",
   "metadata": {},
   "source": [
    "First, let's import some useful functions\n",
    "\n"
   ]
  },
  {
   "cell_type": "code",
   "execution_count": 1,
   "metadata": {},
   "outputs": [],
   "source": [
    "from os.path import join as pjoin\n",
    "import numpy as np\n",
    "import networkx as nx\n",
    "import community as cm\n",
    "from fury import actor, window, colormap as cmap\n",
    "from fury.lib import numpy_support\n",
    "\n",
    "from scipy.spatial.distance import pdist,squareform"
   ]
  },
  {
   "cell_type": "markdown",
   "metadata": {},
   "source": [
    "Generate a random network, requires networkx package"
   ]
  },
  {
   "cell_type": "code",
   "execution_count": 2,
   "metadata": {},
   "outputs": [],
   "source": [
    "vertices_count = 5\n",
    "view_size = 5\n",
    "network = nx.barabasi_albert_graph(vertices_count,2)\n",
    "# initial postions of nodes\n",
    "positions = []\n",
    "# for pos in nx.spring_layout(network,k=1,iterations=100,dim=3).values():\n",
    "for pos in nx.kamada_kawai_layout(network,dim=3).values():\n",
    "# for pos in nx.random_layout(network,dim=3).values():\n",
    "# for pos in nx.spectral_layout(network,dim=3).values():\n",
    "    positions.append(pos)\n",
    "positions = view_size * np.array(positions)\n",
    "# detect communities\n",
    "part = cm.best_partition(network)\n",
    "categories = [part.get(node) for node in network.nodes()]\n",
    "edges = np.array(network.edges())\n",
    "edges_list = edges\n",
    "pos = positions"
   ]
  },
  {
   "cell_type": "code",
   "execution_count": 3,
   "metadata": {},
   "outputs": [
    {
     "data": {
      "text/plain": [
       "array([[ 0.61873677,  0.0599893 , -0.8254831 ],\n",
       "       [-2.28522396,  4.18725725,  0.74943097],\n",
       "       [ 3.74713664,  0.36319412, -5.        ],\n",
       "       [-2.30186257, -0.22317907,  3.0711763 ],\n",
       "       [ 0.22121311, -4.3872616 ,  2.00487583]])"
      ]
     },
     "execution_count": 3,
     "metadata": {},
     "output_type": "execute_result"
    }
   ],
   "source": [
    "positions"
   ]
  },
  {
   "cell_type": "code",
   "execution_count": 7,
   "metadata": {},
   "outputs": [
    {
     "data": {
      "text/plain": [
       "array([[0, 1],\n",
       "       [0, 2],\n",
       "       [0, 3],\n",
       "       [0, 4],\n",
       "       [1, 3],\n",
       "       [3, 4]])"
      ]
     },
     "execution_count": 7,
     "metadata": {},
     "output_type": "execute_result"
    }
   ],
   "source": [
    "edges"
   ]
  },
  {
   "cell_type": "code",
   "execution_count": 6,
   "metadata": {},
   "outputs": [
    {
     "data": {
      "text/plain": [
       "array([[0, 1],\n",
       "       [0, 2],\n",
       "       [0, 3],\n",
       "       [0, 4],\n",
       "       [1, 3],\n",
       "       [3, 4]])"
      ]
     },
     "execution_count": 6,
     "metadata": {},
     "output_type": "execute_result"
    }
   ],
   "source": [
    "# look-up table for links from a given node\n"
   ]
  },
  {
   "cell_type": "code",
   "execution_count": 143,
   "metadata": {},
   "outputs": [
    {
     "name": "stdout",
     "output_type": "stream",
     "text": [
      "(5, 3) (6, 2)\n",
      "[4.1408257  4.43579696 4.48764818 4.48756518 4.23113677 4.23095503]\n",
      "[4.1408257  4.43579696 4.48764818 4.48756518 4.23113677 4.23095503]\n",
      "[4.1408257  4.43579696 4.48764818 4.48756518 4.23113677 4.23095503]\n"
     ]
    }
   ],
   "source": [
    "forces = np.zeros((vertices_count, 3))\n",
    "print(forces.shape, edges_list.shape)\n",
    "for i in range(3):\n",
    "    print(np.linalg.norm(pos[edges_list[:,1]]-pos[edges_list[:,0]],axis=1))\n",
    "    forces[edges_list[:,0],i] += a * (pos[edges_list[:,1],i]-pos[edges_list[:,0],i]) * \\\n",
    "        np.linalg.norm(pos[edges_list[:,1]]-pos[edges_list[:,0]],axis=1)\n",
    "    forces[edges_list[:,1],i] -= a * (pos[edges_list[:,1],i]-pos[edges_list[:,0],i]) * \\\n",
    "        np.linalg.norm(pos[edges_list[:,1]]-pos[edges_list[:,0]],axis=1)\n"
   ]
  },
  {
   "cell_type": "code",
   "execution_count": 154,
   "metadata": {},
   "outputs": [],
   "source": [
    "diffvec = np.array([squareform(pdist(positions,lambda u, v: (u-v)[0])),\n",
    "          squareform(pdist(positions,lambda u, v: (u-v)[1])),\n",
    "          squareform(pdist(positions,lambda u, v: (u-v)[2]))]\n",
    "        )"
   ]
  },
  {
   "cell_type": "code",
   "execution_count": 159,
   "metadata": {},
   "outputs": [],
   "source": [
    "idx = np.indices((pos.shape[0],pos.shape[0]))"
   ]
  },
  {
   "cell_type": "code",
   "execution_count": 161,
   "metadata": {},
   "outputs": [
    {
     "data": {
      "text/plain": [
       "5"
      ]
     },
     "execution_count": 161,
     "metadata": {},
     "output_type": "execute_result"
    }
   ],
   "source": [
    "pos.shape[0]"
   ]
  },
  {
   "cell_type": "code",
   "execution_count": 163,
   "metadata": {},
   "outputs": [],
   "source": [
    "a = np.zeros((5,5))\n",
    "idx = np.indices(a.shape)"
   ]
  },
  {
   "cell_type": "code",
   "execution_count": 179,
   "metadata": {},
   "outputs": [
    {
     "data": {
      "text/plain": [
       "array([[0, 0, 0, 0, 0, 1, 1, 1, 1, 1, 2, 2, 2, 2, 2, 3, 3, 3, 3, 3, 4, 4,\n",
       "        4, 4, 4],\n",
       "       [0, 1, 2, 3, 4, 0, 1, 2, 3, 4, 0, 1, 2, 3, 4, 0, 1, 2, 3, 4, 0, 1,\n",
       "        2, 3, 4]])"
      ]
     },
     "execution_count": 179,
     "metadata": {},
     "output_type": "execute_result"
    }
   ],
   "source": [
    "np.reshape(idx,(2,5*5))"
   ]
  },
  {
   "cell_type": "code",
   "execution_count": null,
   "metadata": {},
   "outputs": [],
   "source": []
  },
  {
   "cell_type": "code",
   "execution_count": null,
   "metadata": {},
   "outputs": [],
   "source": []
  },
  {
   "cell_type": "code",
   "execution_count": 127,
   "metadata": {},
   "outputs": [],
   "source": [
    "forces = np.zeros((vertices_count, 3))\n",
    "for i in range(3):\n",
    "    forces[edges_list[:,0],i] = a * (pos[edges_list[:,1],i]-pos[edges_list[:,0],i]) * \\\n",
    "                            np.linalg.norm(pos[edges_list[:,1]]-pos[edges_list[:,0]],axis=1)\n",
    "#     forces[edges_list[:,1],i] = a * (pos[edges_list[:,1],i]-pos[edges_list[:,0],i]) * \\\n",
    "#                             np.linalg.norm(pos[edges_list[:,1]]-pos[edges_list[:,0]],axis=1)\n"
   ]
  },
  {
   "cell_type": "code",
   "execution_count": 191,
   "metadata": {},
   "outputs": [
    {
     "data": {
      "text/plain": [
       "(0, 1)"
      ]
     },
     "execution_count": 191,
     "metadata": {},
     "output_type": "execute_result"
    }
   ],
   "source": [
    "tuple(edges_list[0])"
   ]
  },
  {
   "cell_type": "code",
   "execution_count": 122,
   "metadata": {},
   "outputs": [],
   "source": [
    "forces = np.zeros((vertices_count, 3))\n",
    "for vFrom, vTo in edges_list:\n",
    "    forces[vFrom] += a * (pos[vTo]-pos[vFrom]) * np.linalg.norm(pos[vTo]-pos[vFrom])\n",
    "    forces[vTo] -= a * (pos[vTo]-pos[vFrom]) * np.linalg.norm(pos[vTo]-pos[vFrom])"
   ]
  },
  {
   "cell_type": "code",
   "execution_count": 123,
   "metadata": {},
   "outputs": [
    {
     "data": {
      "text/plain": [
       "array([[ -1.9834657 , -11.84739814, -10.13291794],\n",
       "       [ -2.41045608, -14.39613239, -12.31408121],\n",
       "       [ -6.39612992, -22.10074521,  27.18171751],\n",
       "       [  6.40994925,  22.1887277 , -27.10626071],\n",
       "       [  4.38010245,  26.15554804,  22.37154235]])"
      ]
     },
     "execution_count": 123,
     "metadata": {},
     "output_type": "execute_result"
    }
   ],
   "source": [
    "forces"
   ]
  },
  {
   "cell_type": "code",
   "execution_count": 30,
   "metadata": {},
   "outputs": [],
   "source": [
    "a=np.array([0,1,2])\n",
    "b=np.array([[1,1,1],[2,2,2],[3,3,3]])"
   ]
  },
  {
   "cell_type": "code",
   "execution_count": 3,
   "metadata": {},
   "outputs": [],
   "source": [
    "from itertools import combinations"
   ]
  },
  {
   "cell_type": "code",
   "execution_count": 18,
   "metadata": {},
   "outputs": [],
   "source": [
    "idx = list(map(list, list(combinations(range(5), 2))))"
   ]
  },
  {
   "cell_type": "code",
   "execution_count": 19,
   "metadata": {},
   "outputs": [
    {
     "data": {
      "text/plain": [
       "[[0, 1],\n",
       " [0, 2],\n",
       " [0, 3],\n",
       " [0, 4],\n",
       " [1, 2],\n",
       " [1, 3],\n",
       " [1, 4],\n",
       " [2, 3],\n",
       " [2, 4],\n",
       " [3, 4]]"
      ]
     },
     "execution_count": 19,
     "metadata": {},
     "output_type": "execute_result"
    }
   ],
   "source": [
    "idx"
   ]
  },
  {
   "cell_type": "code",
   "execution_count": 28,
   "metadata": {},
   "outputs": [
    {
     "data": {
      "text/plain": [
       "array([[0, 1],\n",
       "       [0, 2],\n",
       "       [0, 3],\n",
       "       [0, 4],\n",
       "       [1, 3],\n",
       "       [3, 4]])"
      ]
     },
     "execution_count": 28,
     "metadata": {},
     "output_type": "execute_result"
    }
   ],
   "source": [
    "edges_list"
   ]
  },
  {
   "cell_type": "code",
   "execution_count": 30,
   "metadata": {},
   "outputs": [
    {
     "name": "stdout",
     "output_type": "stream",
     "text": [
      "[0, 1]\n",
      "[0, 2]\n",
      "[0, 3]\n",
      "[0, 4]\n",
      "[1, 3]\n",
      "[3, 4]\n"
     ]
    }
   ],
   "source": [
    "for ind in idx:\n",
    "    if ind in edges_list.tolist():\n",
    "        print(ind)"
   ]
  },
  {
   "cell_type": "code",
   "execution_count": 27,
   "metadata": {},
   "outputs": [
    {
     "data": {
      "text/plain": [
       "True"
      ]
     },
     "execution_count": 27,
     "metadata": {},
     "output_type": "execute_result"
    }
   ],
   "source": [
    "edges_list"
   ]
  },
  {
   "cell_type": "code",
   "execution_count": 23,
   "metadata": {},
   "outputs": [
    {
     "data": {
      "text/plain": [
       "[0, 1]"
      ]
     },
     "execution_count": 23,
     "metadata": {},
     "output_type": "execute_result"
    }
   ],
   "source": [
    "idx[0]"
   ]
  },
  {
   "cell_type": "code",
   "execution_count": 196,
   "metadata": {},
   "outputs": [
    {
     "name": "stdout",
     "output_type": "stream",
     "text": [
      "0 1\n"
     ]
    }
   ],
   "source": [
    "for i,(v1,v2) in enumerate(list(combinations(range(5), 2))):\n",
    "    if tuple(edges_list[0]) == (v1,v2):\n",
    "        print(v1,v2)"
   ]
  },
  {
   "cell_type": "code",
   "execution_count": null,
   "metadata": {},
   "outputs": [],
   "source": []
  },
  {
   "cell_type": "code",
   "execution_count": 3,
   "metadata": {},
   "outputs": [
    {
     "name": "stdout",
     "output_type": "stream",
     "text": [
      "1\n",
      "[array([-0.07849557,  0.07931633, -0.82551002]), array([ 0.29191687, -0.29487334,  3.07133499])]\n",
      "2\n",
      "[array([-0.07849557,  0.07931633, -0.82551002]), array([-0.47504629,  0.47981445, -5.        ])]\n",
      "3\n",
      "[array([-0.07849557,  0.07931633, -0.82551002]), array([-2.61468156, -2.51586214,  1.40916476])]\n",
      "4\n",
      "[array([-0.07849557,  0.07931633, -0.82551002]), array([2.87630655, 2.25160471, 1.34501027])]\n",
      "3\n",
      "[array([ 0.29191687, -0.29487334,  3.07133499]), array([-2.61468156, -2.51586214,  1.40916476])]\n",
      "4\n",
      "[array([ 0.29191687, -0.29487334,  3.07133499]), array([2.87630655, 2.25160471, 1.34501027])]\n"
     ]
    }
   ],
   "source": [
    "for n,edge in enumerate(edges):\n",
    "    print(edge[1])\n",
    "    print([positions[edge[0]],positions[edge[1]]])"
   ]
  },
  {
   "cell_type": "code",
   "execution_count": 4,
   "metadata": {},
   "outputs": [],
   "source": [
    "scene = window.Scene()\n",
    "scene.SetBackground((255,255,255))\n",
    "lines = []\n",
    "for n in range(5):\n",
    "    lines.append(np.random.rand(2, 3))\n",
    "colors = [np.random.rand(2, 3)]*5\n",
    "c = actor.line(lines, colors, opacity= 1.0, lod=False,\n",
    "        fake_tube=True, linewidth=3)\n",
    "scene.add(c)\n",
    "window.show(scene)"
   ]
  },
  {
   "cell_type": "code",
   "execution_count": 37,
   "metadata": {},
   "outputs": [],
   "source": [
    "scene = window.Scene()\n",
    "scene.SetBackground((255,255,255))\n",
    "lines = []\n",
    "for n in range(5):\n",
    "    lines.append(np.random.rand(2, 3))\n",
    "colors = [np.random.rand(2, 3)]*5\n",
    "line_actor = []\n",
    "for n in range(5):\n",
    "    line_actor.append(actor.line([lines[n]], colors[n], opacity= 1.0, lod=False,\n",
    "        fake_tube=True, linewidth=3))\n",
    "    scene.add(line_actor[n])\n",
    "window.show(scene)"
   ]
  },
  {
   "cell_type": "code",
   "execution_count": 33,
   "metadata": {},
   "outputs": [
    {
     "data": {
      "text/plain": [
       "array([[0.73112016, 0.31879504, 0.14403799],\n",
       "       [0.0427426 , 0.96214875, 0.79545216]])"
      ]
     },
     "execution_count": 33,
     "metadata": {},
     "output_type": "execute_result"
    }
   ],
   "source": [
    "lines[2]"
   ]
  },
  {
   "cell_type": "code",
   "execution_count": null,
   "metadata": {},
   "outputs": [],
   "source": []
  },
  {
   "cell_type": "code",
   "execution_count": 10,
   "metadata": {},
   "outputs": [
    {
     "data": {
      "text/plain": [
       "[array([[0.80708127, 0.25095888, 0.81678098],\n",
       "        [0.15854459, 0.18585487, 0.17689999]])]"
      ]
     },
     "execution_count": 10,
     "metadata": {},
     "output_type": "execute_result"
    }
   ],
   "source": [
    "[np.random.rand(2, 3)]"
   ]
  },
  {
   "cell_type": "markdown",
   "metadata": {},
   "source": [
    "We attribute a color to each category of our dataset which correspond to our\n",
    "nodes colors.\n",
    "\n"
   ]
  },
  {
   "cell_type": "code",
   "execution_count": 5,
   "metadata": {},
   "outputs": [],
   "source": [
    "category2index = {category: i\n",
    "                  for i, category in enumerate(np.unique(categories))}\n",
    "\n",
    "index2category = np.unique(categories)\n",
    "\n",
    "category_colors = cmap.distinguishable_colormap(nb_colors=len(index2category))\n",
    "\n",
    "colors = np.array([category_colors[category2index[category]]\n",
    "                   for category in categories])"
   ]
  },
  {
   "cell_type": "code",
   "execution_count": 6,
   "metadata": {},
   "outputs": [
    {
     "data": {
      "text/plain": [
       "5"
      ]
     },
     "execution_count": 6,
     "metadata": {},
     "output_type": "execute_result"
    }
   ],
   "source": [
    "len(colors)"
   ]
  },
  {
   "cell_type": "markdown",
   "metadata": {},
   "source": [
    "We define our node size\n",
    "\n"
   ]
  },
  {
   "cell_type": "code",
   "execution_count": 7,
   "metadata": {},
   "outputs": [],
   "source": [
    "# display degree as size\n",
    "d = nx.degree(network)\n",
    "radii = np.array([(d[v]+1)*0.2 for v in network.nodes()])"
   ]
  },
  {
   "cell_type": "markdown",
   "metadata": {},
   "source": [
    "Let's create our edges now.\n",
    "The colors of each edge are interpolated between the two endpoints.\n",
    "\n"
   ]
  },
  {
   "cell_type": "code",
   "execution_count": 8,
   "metadata": {},
   "outputs": [],
   "source": [
    "edges_colors = []\n",
    "for source, target in edges:\n",
    "    edges_colors.append(np.array([colors[source], colors[target]]))\n",
    "\n",
    "edges_colors = np.average(np.array(edges_colors), axis=1)"
   ]
  },
  {
   "cell_type": "code",
   "execution_count": 9,
   "metadata": {},
   "outputs": [
    {
     "data": {
      "text/plain": [
       "array([[0., 1., 0.],\n",
       "       [0., 1., 0.],\n",
       "       [0., 1., 0.],\n",
       "       [0., 1., 0.],\n",
       "       [0., 1., 0.],\n",
       "       [0., 1., 0.]])"
      ]
     },
     "execution_count": 9,
     "metadata": {},
     "output_type": "execute_result"
    }
   ],
   "source": [
    "edges_colors"
   ]
  },
  {
   "cell_type": "markdown",
   "metadata": {},
   "source": [
    "Our data preparation is ready, it is time to visualize them all. We start to\n",
    "build 2 actors that we represent our data : sphere_actor for the nodes and\n",
    "lines_actor for the edges.\n",
    "\n"
   ]
  },
  {
   "cell_type": "code",
   "execution_count": 10,
   "metadata": {},
   "outputs": [],
   "source": [
    "sphere_actor = actor.sphere(centers=np.zeros(positions.shape),\n",
    "                            colors=colors,\n",
    "                            radii=radii * 0.5,\n",
    "                            theta=8,\n",
    "                            phi=8)\n",
    "\n",
    "\n",
    "lines_actor = actor.line(np.zeros((len(edges), 2, 3)),\n",
    "                         colors=edges_colors, opacity=0, lod=False,\n",
    "                         fake_tube=True, linewidth=3)"
   ]
  },
  {
   "cell_type": "code",
   "execution_count": 11,
   "metadata": {},
   "outputs": [
    {
     "data": {
      "text/plain": [
       "<vtkmodules.vtkRenderingOpenGL2.vtkOpenGLActor(0x7fbd9a866280) at 0x7fbdd01b4580>"
      ]
     },
     "execution_count": 11,
     "metadata": {},
     "output_type": "execute_result"
    }
   ],
   "source": [
    "lines_actor"
   ]
  },
  {
   "cell_type": "code",
   "execution_count": 12,
   "metadata": {},
   "outputs": [
    {
     "data": {
      "text/plain": [
       "array([[0., 0., 0.],\n",
       "       [0., 0., 0.],\n",
       "       [0., 0., 0.],\n",
       "       [0., 0., 0.],\n",
       "       [0., 0., 0.],\n",
       "       [0., 0., 0.],\n",
       "       [0., 0., 0.],\n",
       "       [0., 0., 0.],\n",
       "       [0., 0., 0.],\n",
       "       [0., 0., 0.],\n",
       "       [0., 0., 0.],\n",
       "       [0., 0., 0.]])"
      ]
     },
     "execution_count": 12,
     "metadata": {},
     "output_type": "execute_result"
    }
   ],
   "source": [
    "numpy_support.vtk_to_numpy(lines_actor.GetMapper().GetInput().GetPoints().GetData())"
   ]
  },
  {
   "cell_type": "code",
   "execution_count": 13,
   "metadata": {},
   "outputs": [
    {
     "data": {
      "text/plain": [
       "0.0"
      ]
     },
     "execution_count": 13,
     "metadata": {},
     "output_type": "execute_result"
    }
   ],
   "source": [
    "lines_actor.GetProperty().GetOpacity()"
   ]
  },
  {
   "cell_type": "code",
   "execution_count": 14,
   "metadata": {},
   "outputs": [
    {
     "data": {
      "text/plain": [
       "['AddObserver',\n",
       " 'AddShaderVariable',\n",
       " 'BackfaceCullingOff',\n",
       " 'BackfaceCullingOn',\n",
       " 'BackfaceRender',\n",
       " 'BreakOnError',\n",
       " 'ComputeIORFromReflectance',\n",
       " 'ComputeReflectanceFromIOR',\n",
       " 'ComputeReflectanceOfBaseLayer',\n",
       " 'DebugOff',\n",
       " 'DebugOn',\n",
       " 'DeepCopy',\n",
       " 'EdgeVisibilityOff',\n",
       " 'EdgeVisibilityOn',\n",
       " 'FastDelete',\n",
       " 'FrontfaceCullingOff',\n",
       " 'FrontfaceCullingOn',\n",
       " 'GetAddressAsString',\n",
       " 'GetAmbient',\n",
       " 'GetAmbientColor',\n",
       " 'GetAmbientMaxValue',\n",
       " 'GetAmbientMinValue',\n",
       " 'GetAnisotropy',\n",
       " 'GetAnisotropyMaxValue',\n",
       " 'GetAnisotropyMinValue',\n",
       " 'GetAnisotropyRotation',\n",
       " 'GetAnisotropyRotationMaxValue',\n",
       " 'GetAnisotropyRotationMinValue',\n",
       " 'GetBackfaceCulling',\n",
       " 'GetBaseIOR',\n",
       " 'GetBaseIORMaxValue',\n",
       " 'GetBaseIORMinValue',\n",
       " 'GetClassName',\n",
       " 'GetCoatColor',\n",
       " 'GetCoatIOR',\n",
       " 'GetCoatIORMaxValue',\n",
       " 'GetCoatIORMinValue',\n",
       " 'GetCoatNormalScale',\n",
       " 'GetCoatNormalScaleMaxValue',\n",
       " 'GetCoatNormalScaleMinValue',\n",
       " 'GetCoatRoughness',\n",
       " 'GetCoatRoughnessMaxValue',\n",
       " 'GetCoatRoughnessMinValue',\n",
       " 'GetCoatStrength',\n",
       " 'GetCoatStrengthMaxValue',\n",
       " 'GetCoatStrengthMinValue',\n",
       " 'GetColor',\n",
       " 'GetCommand',\n",
       " 'GetDebug',\n",
       " 'GetDiffuse',\n",
       " 'GetDiffuseColor',\n",
       " 'GetDiffuseMaxValue',\n",
       " 'GetDiffuseMinValue',\n",
       " 'GetEdgeColor',\n",
       " 'GetEdgeTint',\n",
       " 'GetEdgeVisibility',\n",
       " 'GetEmissiveFactor',\n",
       " 'GetFrontfaceCulling',\n",
       " 'GetGlobalWarningDisplay',\n",
       " 'GetInformation',\n",
       " 'GetInterpolation',\n",
       " 'GetInterpolationAsString',\n",
       " 'GetInterpolationMaxValue',\n",
       " 'GetInterpolationMinValue',\n",
       " 'GetIsInMemkind',\n",
       " 'GetLighting',\n",
       " 'GetLineStipplePattern',\n",
       " 'GetLineStippleRepeatFactor',\n",
       " 'GetLineStippleRepeatFactorMaxValue',\n",
       " 'GetLineStippleRepeatFactorMinValue',\n",
       " 'GetLineWidth',\n",
       " 'GetLineWidthMaxValue',\n",
       " 'GetLineWidthMinValue',\n",
       " 'GetMTime',\n",
       " 'GetMaterialName',\n",
       " 'GetMetallic',\n",
       " 'GetMetallicMaxValue',\n",
       " 'GetMetallicMinValue',\n",
       " 'GetNormalScale',\n",
       " 'GetNumberOfGenerationsFromBase',\n",
       " 'GetNumberOfGenerationsFromBaseType',\n",
       " 'GetNumberOfTextures',\n",
       " 'GetOcclusionStrength',\n",
       " 'GetOcclusionStrengthMaxValue',\n",
       " 'GetOcclusionStrengthMinValue',\n",
       " 'GetOpacity',\n",
       " 'GetOpacityMaxValue',\n",
       " 'GetOpacityMinValue',\n",
       " 'GetPointSize',\n",
       " 'GetPointSizeMaxValue',\n",
       " 'GetPointSizeMinValue',\n",
       " 'GetReferenceCount',\n",
       " 'GetRenderLinesAsTubes',\n",
       " 'GetRenderPointsAsSpheres',\n",
       " 'GetRepresentation',\n",
       " 'GetRepresentationAsString',\n",
       " 'GetRepresentationMaxValue',\n",
       " 'GetRepresentationMinValue',\n",
       " 'GetRoughness',\n",
       " 'GetRoughnessMaxValue',\n",
       " 'GetRoughnessMinValue',\n",
       " 'GetSelectionColor',\n",
       " 'GetSelectionLineWidth',\n",
       " 'GetSelectionPointSize',\n",
       " 'GetShading',\n",
       " 'GetShowTexturesOnBackface',\n",
       " 'GetSpecular',\n",
       " 'GetSpecularColor',\n",
       " 'GetSpecularMaxValue',\n",
       " 'GetSpecularMinValue',\n",
       " 'GetSpecularPower',\n",
       " 'GetSpecularPowerMaxValue',\n",
       " 'GetSpecularPowerMinValue',\n",
       " 'GetTexture',\n",
       " 'GetUsingMemkind',\n",
       " 'GetVertexColor',\n",
       " 'GetVertexVisibility',\n",
       " 'GlobalWarningDisplayOff',\n",
       " 'GlobalWarningDisplayOn',\n",
       " 'HasObserver',\n",
       " 'InitializeObjectBase',\n",
       " 'InvokeEvent',\n",
       " 'IsA',\n",
       " 'IsTypeOf',\n",
       " 'LightingOff',\n",
       " 'LightingOn',\n",
       " 'Modified',\n",
       " 'NewInstance',\n",
       " 'PostRender',\n",
       " 'Register',\n",
       " 'ReleaseGraphicsResources',\n",
       " 'RemoveAllObservers',\n",
       " 'RemoveAllTextures',\n",
       " 'RemoveObserver',\n",
       " 'RemoveObservers',\n",
       " 'RemoveTexture',\n",
       " 'Render',\n",
       " 'RenderLinesAsTubesOff',\n",
       " 'RenderLinesAsTubesOn',\n",
       " 'RenderPointsAsSpheresOff',\n",
       " 'RenderPointsAsSpheresOn',\n",
       " 'SafeDownCast',\n",
       " 'SetAmbient',\n",
       " 'SetAmbientColor',\n",
       " 'SetAnisotropy',\n",
       " 'SetAnisotropyRotation',\n",
       " 'SetAnisotropyTexture',\n",
       " 'SetBackfaceCulling',\n",
       " 'SetBaseColorTexture',\n",
       " 'SetBaseIOR',\n",
       " 'SetCoatColor',\n",
       " 'SetCoatIOR',\n",
       " 'SetCoatNormalScale',\n",
       " 'SetCoatNormalTexture',\n",
       " 'SetCoatRoughness',\n",
       " 'SetCoatStrength',\n",
       " 'SetColor',\n",
       " 'SetDebug',\n",
       " 'SetDiffuse',\n",
       " 'SetDiffuseColor',\n",
       " 'SetEdgeColor',\n",
       " 'SetEdgeTint',\n",
       " 'SetEdgeVisibility',\n",
       " 'SetEmissiveFactor',\n",
       " 'SetEmissiveTexture',\n",
       " 'SetFrontfaceCulling',\n",
       " 'SetGlobalWarningDisplay',\n",
       " 'SetInformation',\n",
       " 'SetInterpolation',\n",
       " 'SetInterpolationToFlat',\n",
       " 'SetInterpolationToGouraud',\n",
       " 'SetInterpolationToPBR',\n",
       " 'SetInterpolationToPhong',\n",
       " 'SetLighting',\n",
       " 'SetLineStipplePattern',\n",
       " 'SetLineStippleRepeatFactor',\n",
       " 'SetLineWidth',\n",
       " 'SetMaterialName',\n",
       " 'SetMemkindDirectory',\n",
       " 'SetMetallic',\n",
       " 'SetNormalScale',\n",
       " 'SetNormalTexture',\n",
       " 'SetORMTexture',\n",
       " 'SetOcclusionStrength',\n",
       " 'SetOpacity',\n",
       " 'SetPointSize',\n",
       " 'SetReferenceCount',\n",
       " 'SetRenderLinesAsTubes',\n",
       " 'SetRenderPointsAsSpheres',\n",
       " 'SetRepresentation',\n",
       " 'SetRepresentationToPoints',\n",
       " 'SetRepresentationToSurface',\n",
       " 'SetRepresentationToWireframe',\n",
       " 'SetRoughness',\n",
       " 'SetSelectionColor',\n",
       " 'SetSelectionLineWidth',\n",
       " 'SetSelectionPointSize',\n",
       " 'SetShading',\n",
       " 'SetShowTexturesOnBackface',\n",
       " 'SetSpecular',\n",
       " 'SetSpecularColor',\n",
       " 'SetSpecularPower',\n",
       " 'SetTexture',\n",
       " 'SetVertexColor',\n",
       " 'SetVertexVisibility',\n",
       " 'ShadingOff',\n",
       " 'ShadingOn',\n",
       " 'ShowTexturesOnBackfaceOff',\n",
       " 'ShowTexturesOnBackfaceOn',\n",
       " 'UnRegister',\n",
       " 'VertexVisibilityOff',\n",
       " 'VertexVisibilityOn',\n",
       " '__class__',\n",
       " '__delattr__',\n",
       " '__dict__',\n",
       " '__dir__',\n",
       " '__doc__',\n",
       " '__eq__',\n",
       " '__format__',\n",
       " '__ge__',\n",
       " '__getattribute__',\n",
       " '__gt__',\n",
       " '__hash__',\n",
       " '__init__',\n",
       " '__init_subclass__',\n",
       " '__le__',\n",
       " '__lt__',\n",
       " '__ne__',\n",
       " '__new__',\n",
       " '__reduce__',\n",
       " '__reduce_ex__',\n",
       " '__repr__',\n",
       " '__setattr__',\n",
       " '__sizeof__',\n",
       " '__str__',\n",
       " '__subclasshook__',\n",
       " '__this__',\n",
       " '__vtkname__']"
      ]
     },
     "execution_count": 14,
     "metadata": {},
     "output_type": "execute_result"
    }
   ],
   "source": [
    "dir(lines_actor.GetProperty())"
   ]
  },
  {
   "cell_type": "code",
   "execution_count": 15,
   "metadata": {},
   "outputs": [],
   "source": [
    "a = np.array([[0,1],[2,3],[4,5],[6,7],[8,9]])"
   ]
  },
  {
   "cell_type": "code",
   "execution_count": 16,
   "metadata": {},
   "outputs": [],
   "source": [
    "a = np.delete(a,1,0)"
   ]
  },
  {
   "cell_type": "code",
   "execution_count": 17,
   "metadata": {},
   "outputs": [
    {
     "data": {
      "text/plain": [
       "(3,)"
      ]
     },
     "execution_count": 17,
     "metadata": {},
     "output_type": "execute_result"
    }
   ],
   "source": [
    "positions[0].shape"
   ]
  },
  {
   "cell_type": "code",
   "execution_count": 29,
   "metadata": {},
   "outputs": [],
   "source": [
    "sphere_actor = []\n",
    "for n in range(len(positions)):\n",
    "    sphere_actor.append(actor.sphere(centers=np.zeros(3),\n",
    "                                colors=colors,\n",
    "                                radii=radii * 0.5,\n",
    "                                theta=8,\n",
    "                                phi=8))\n"
   ]
  },
  {
   "cell_type": "code",
   "execution_count": 30,
   "metadata": {},
   "outputs": [
    {
     "data": {
      "text/plain": [
       "<vtkmodules.vtkRenderingOpenGL2.vtkOpenGLActor(0x7fbae6817830) at 0x7fbb98566a00>"
      ]
     },
     "execution_count": 30,
     "metadata": {},
     "output_type": "execute_result"
    }
   ],
   "source": [
    "sphere_actor[0]"
   ]
  },
  {
   "cell_type": "code",
   "execution_count": 31,
   "metadata": {},
   "outputs": [
    {
     "ename": "AttributeError",
     "evalue": "'NoneType' object has no attribute 'GetData'",
     "output_type": "error",
     "traceback": [
      "\u001b[0;31m---------------------------------------------------------------------------\u001b[0m",
      "\u001b[0;31mAttributeError\u001b[0m                            Traceback (most recent call last)",
      "\u001b[0;32m/var/folders/79/v35j8cvx07399lhdbb6k3p340000gp/T/ipykernel_34916/1933486218.py\u001b[0m in \u001b[0;36m<module>\u001b[0;34m\u001b[0m\n\u001b[1;32m      1\u001b[0m np.array(numpy_support.vtk_to_numpy(\n\u001b[0;32m----> 2\u001b[0;31m         sphere_actor[0].GetMapper().GetInput().GetPoints().GetData()))\n\u001b[0m",
      "\u001b[0;31mAttributeError\u001b[0m: 'NoneType' object has no attribute 'GetData'"
     ]
    }
   ],
   "source": [
    "np.array(numpy_support.vtk_to_numpy(\n",
    "        sphere_actor[0].GetMapper().GetInput().GetPoints().GetData()))"
   ]
  },
  {
   "cell_type": "code",
   "execution_count": 50,
   "metadata": {},
   "outputs": [
    {
     "ename": "AttributeError",
     "evalue": "'NoneType' object has no attribute 'GetData'",
     "output_type": "error",
     "traceback": [
      "\u001b[0;31m---------------------------------------------------------------------------\u001b[0m",
      "\u001b[0;31mAttributeError\u001b[0m                            Traceback (most recent call last)",
      "\u001b[0;32m/var/folders/79/v35j8cvx07399lhdbb6k3p340000gp/T/ipykernel_34660/3221817635.py\u001b[0m in \u001b[0;36m<module>\u001b[0;34m\u001b[0m\n\u001b[1;32m      2\u001b[0m \u001b[0;32mfor\u001b[0m \u001b[0ms\u001b[0m\u001b[0;34m,\u001b[0m\u001b[0msphere\u001b[0m \u001b[0;32min\u001b[0m \u001b[0menumerate\u001b[0m\u001b[0;34m(\u001b[0m\u001b[0msphere_actor\u001b[0m\u001b[0;34m)\u001b[0m\u001b[0;34m:\u001b[0m\u001b[0;34m\u001b[0m\u001b[0;34m\u001b[0m\u001b[0m\n\u001b[1;32m      3\u001b[0m     sphere_geometry[s] = np.array(numpy_support.vtk_to_numpy(\n\u001b[0;32m----> 4\u001b[0;31m         sphere.GetMapper().GetInput().GetPoints().GetData()))\n\u001b[0m\u001b[1;32m      5\u001b[0m \u001b[0;31m#   geometry_length = sphere_geometry.shape[0] / vertices_count\u001b[0m\u001b[0;34m\u001b[0m\u001b[0;34m\u001b[0m\u001b[0m\n\u001b[1;32m      6\u001b[0m \u001b[0mgeometry_length\u001b[0m \u001b[0;34m=\u001b[0m \u001b[0;36m50\u001b[0m\u001b[0;34m*\u001b[0m\u001b[0mvertices_count\u001b[0m\u001b[0;34m\u001b[0m\u001b[0;34m\u001b[0m\u001b[0m\n",
      "\u001b[0;31mAttributeError\u001b[0m: 'NoneType' object has no attribute 'GetData'"
     ]
    }
   ],
   "source": [
    "sphere_geometry = np.zeros(3)\n",
    "for s,sphere in enumerate(sphere_actor):\n",
    "    sphere_geometry[s] = np.array(numpy_support.vtk_to_numpy(\n",
    "        sphere.GetMapper().GetInput().GetPoints().GetData()))\n",
    "#   geometry_length = sphere_geometry.shape[0] / vertices_count\n",
    "geometry_length = 50*vertices_count\n",
    "print(geometry_length)"
   ]
  },
  {
   "cell_type": "code",
   "execution_count": null,
   "metadata": {},
   "outputs": [],
   "source": []
  },
  {
   "cell_type": "code",
   "execution_count": null,
   "metadata": {},
   "outputs": [],
   "source": []
  },
  {
   "cell_type": "code",
   "execution_count": 43,
   "metadata": {},
   "outputs": [],
   "source": [
    "sphere_geometry = np.array(numpy_support.vtk_to_numpy(\n",
    "        sphere_actor.GetMapper().GetInput().GetPoints().GetData()))\n",
    "geometry_length = sphere_geometry.shape[0] / vertices_count"
   ]
  },
  {
   "cell_type": "code",
   "execution_count": 44,
   "metadata": {},
   "outputs": [
    {
     "data": {
      "text/plain": [
       "(5000, 3)"
      ]
     },
     "execution_count": 44,
     "metadata": {},
     "output_type": "execute_result"
    }
   ],
   "source": [
    "sphere_geometry.shape"
   ]
  },
  {
   "cell_type": "code",
   "execution_count": 45,
   "metadata": {},
   "outputs": [
    {
     "data": {
      "text/plain": [
       "50.0"
      ]
     },
     "execution_count": 45,
     "metadata": {},
     "output_type": "execute_result"
    }
   ],
   "source": [
    "geometry_length"
   ]
  },
  {
   "cell_type": "markdown",
   "metadata": {},
   "source": [
    "Defining timer callback and layout iterator\n",
    "\n"
   ]
  },
  {
   "cell_type": "code",
   "execution_count": 154,
   "metadata": {},
   "outputs": [],
   "source": [
    "def new_layout_timer(showm, edges_list, vertices_count,\n",
    "                     max_iterations=1000, vertex_initial_positions=None):\n",
    "    view_size = 500\n",
    "    viscosity = 0.10\n",
    "    alpha = 0.5\n",
    "    a = 0.0005\n",
    "    b = 1.0\n",
    "    deltaT = 1.0\n",
    "\n",
    "    sphere_geometry = np.array(numpy_support.vtk_to_numpy(\n",
    "        sphere_actor.GetMapper().GetInput().GetPoints().GetData()))\n",
    "    geometry_length = sphere_geometry.shape[0] / vertices_count\n",
    "\n",
    "    if(vertex_initial_positions is not None):\n",
    "        pos = np.array(vertex_initial_positions)\n",
    "    else:\n",
    "        pos = view_size * \\\n",
    "            np.random.random((vertices_count, 3)) - view_size / 2.0\n",
    "\n",
    "    velocities = np.zeros((vertices_count, 3))\n",
    "\n",
    "    def iterate(iterationCount):\n",
    "        nonlocal pos, velocities\n",
    "        for _ in range(iterationCount):\n",
    "            forces = np.zeros((vertices_count, 3))\n",
    "            # repulstive forces\n",
    "            for vertex1 in range(vertices_count):\n",
    "                for vertex2 in range(vertex1):\n",
    "                    x1, y1, z1 = pos[vertex1]\n",
    "                    x2, y2, z2 = pos[vertex2]\n",
    "                    distance = math.sqrt(\n",
    "                        (x2 - x1) * (x2 - x1) +\n",
    "                        (y2 - y1) * (y2 - y1) +\n",
    "                        (z2 - z1) * (z2 - z1)) + alpha\n",
    "                    rx = (x2 - x1) / distance\n",
    "                    ry = (y2 - y1) / distance\n",
    "                    rz = (z2 - z1) / distance\n",
    "                    Fx = -b * rx / distance / distance\n",
    "                    Fy = -b * ry / distance / distance\n",
    "                    Fz = -b * rz / distance / distance\n",
    "                    forces[vertex1] += np.array([Fx, Fy, Fz])\n",
    "                    forces[vertex2] -= np.array([Fx, Fy, Fz])\n",
    "            # attractive forces\n",
    "            for vFrom, vTo in edges_list:\n",
    "                if(vFrom == vTo):\n",
    "                    continue\n",
    "                x1, y1, z1 = pos[vFrom]\n",
    "                x2, y2, z2 = pos[vTo]\n",
    "                distance = math.sqrt(\n",
    "                    (x2 - x1) * (x2 - x1) +\n",
    "                    (y2 - y1) * (y2 - y1) +\n",
    "                    (z2 - z1) * (z2 - z1))\n",
    "                Rx = (x2 - x1)\n",
    "                Ry = (y2 - y1)\n",
    "                Rz = (z2 - z1)\n",
    "                Fx = a * Rx * distance\n",
    "                Fy = a * Ry * distance\n",
    "                Fz = a * Rz * distance\n",
    "                forces[vFrom] += np.array([Fx, Fy, Fz])\n",
    "                forces[vTo] -= np.array([Fx, Fy, Fz])\n",
    "            velocities += forces * deltaT\n",
    "            velocities *= (1.0 - viscosity)\n",
    "            pos += velocities * deltaT\n",
    "        pos[:, 0] -= np.mean(pos[:, 0])\n",
    "        pos[:, 1] -= np.mean(pos[:, 1])\n",
    "        pos[:, 2] -= np.mean(pos[:, 2])\n",
    "    \n",
    "    counter = 0\n",
    "\n",
    "    def _timer(_obj, _event):\n",
    "        nonlocal counter, pos\n",
    "        counter += 1\n",
    "        pos[:] += (np.random.random(pos.shape) - 0.5) * 1.5\n",
    "        spheres_positions = numpy_support.vtk_to_numpy(\n",
    "            sphere_actor.GetMapper().GetInput().GetPoints().GetData())\n",
    "        spheres_positions[:] = sphere_geometry + \\\n",
    "            np.repeat(pos, geometry_length, axis=0)\n",
    "\n",
    "        edges_positions = numpy_support.vtk_to_numpy(\n",
    "            lines_actor.GetMapper().GetInput().GetPoints().GetData())\n",
    "        edges_positions[::2] = pos[edges_list[:, 0]]\n",
    "        edges_positions[1::2] = pos[edges_list[:, 1]]\n",
    "\n",
    "        lines_actor.GetMapper().GetInput().GetPoints().GetData().Modified()\n",
    "        lines_actor.GetMapper().GetInput().ComputeBounds()\n",
    "\n",
    "        sphere_actor.GetMapper().GetInput().GetPoints().GetData().Modified()\n",
    "        sphere_actor.GetMapper().GetInput().ComputeBounds()\n",
    "        showm.scene.ResetCameraClippingRange()\n",
    "        showm.render()\n",
    "\n",
    "        if counter >= max_iterations:\n",
    "            showm.exit()\n",
    "    return _timer"
   ]
  },
  {
   "cell_type": "markdown",
   "metadata": {},
   "source": [
    "All actors need to be added in a scene, so we build one and add our\n",
    "lines_actor and sphere_actor.\n",
    "\n"
   ]
  },
  {
   "cell_type": "code",
   "execution_count": 155,
   "metadata": {},
   "outputs": [],
   "source": [
    "scene = window.Scene()\n",
    "\n",
    "camera = scene.camera()\n",
    "\n",
    "scene.add(lines_actor)\n",
    "scene.add(sphere_actor)"
   ]
  },
  {
   "cell_type": "markdown",
   "metadata": {},
   "source": [
    "The final step! Visualize the result of our creation! Also, we need to move\n",
    "the camera a little bit farther from the network. you can increase the\n",
    "parameter max_iteractions of the timer callback to let the animation run for\n",
    "more time.\n",
    "\n"
   ]
  },
  {
   "cell_type": "code",
   "execution_count": null,
   "metadata": {},
   "outputs": [],
   "source": [
    "showm = window.ShowManager(scene, reset_camera=False, size=(1000,1000), order_transparent=True, multi_samples=8)\n",
    "\n",
    "showm.initialize()\n",
    "\n",
    "scene.set_camera(position=(0, 0, -300))\n",
    "\n",
    "timer_callback = new_layout_timer(\n",
    "    showm, edges, vertices_count,\n",
    "    max_iterations=1000,\n",
    "    vertex_initial_positions=positions)\n",
    "\n",
    "\n",
    "# Run every 16 milliseconds\n",
    "showm.add_timer_callback(True, 16, timer_callback)\n",
    "\n",
    "showm.start()\n",
    "\n",
    "window.record(showm.scene, size=(1000,1000),\n",
    "              out_path=\"viz_animated_networks.png\")"
   ]
  },
  {
   "cell_type": "code",
   "execution_count": 11,
   "metadata": {},
   "outputs": [],
   "source": [
    "scene.clear()"
   ]
  },
  {
   "cell_type": "code",
   "execution_count": 128,
   "metadata": {},
   "outputs": [
    {
     "name": "stdout",
     "output_type": "stream",
     "text": [
      "0 2\n"
     ]
    }
   ],
   "source": [
    "y = 2\n",
    "def zero():\n",
    "    x = 0\n",
    "    print(x,y)\n",
    "zero()\n"
   ]
  },
  {
   "cell_type": "code",
   "execution_count": null,
   "metadata": {},
   "outputs": [],
   "source": []
  }
 ],
 "metadata": {
  "kernelspec": {
   "display_name": "Python 3 (ipykernel)",
   "language": "python",
   "name": "python3"
  },
  "language_info": {
   "codemirror_mode": {
    "name": "ipython",
    "version": 3
   },
   "file_extension": ".py",
   "mimetype": "text/x-python",
   "name": "python",
   "nbconvert_exporter": "python",
   "pygments_lexer": "ipython3",
   "version": "3.9.7"
  }
 },
 "nbformat": 4,
 "nbformat_minor": 1
}
