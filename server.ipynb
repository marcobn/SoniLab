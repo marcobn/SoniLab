{
 "cells": [
  {
   "cell_type": "code",
   "execution_count": 1,
   "metadata": {},
   "outputs": [],
   "source": [
    "# Import needed modules from osc4py3\n",
    "from osc4py3.as_eventloop import *\n",
    "from osc4py3 import oscmethod as osm\n",
    "import numpy as np"
   ]
  },
  {
   "cell_type": "code",
   "execution_count": 2,
   "metadata": {},
   "outputs": [],
   "source": [
    "def handlerfunction(*args):\n",
    "    # Will receive message data unpacked in *args\n",
    "    global data\n",
    "    data = args\n",
    "\n",
    "# Start the system.\n",
    "osc_startup()\n",
    "\n",
    "# Make server channels to receive packets.\n",
    "osc_udp_server(\"127.0.0.1\", 8001, \"aservername\")\n",
    "\n",
    "# Associate Python functions with message address patterns, using default\n",
    "# argument scheme OSCARG_DATAUNPACK.\n",
    "osc_method(\"/test/*\", handlerfunction)"
   ]
  },
  {
   "cell_type": "code",
   "execution_count": null,
   "metadata": {},
   "outputs": [],
   "source": [
    "# Periodically call osc4py3 processing method in your event loop.\n",
    "data = None\n",
    "finished = False\n",
    "while not finished:\n",
    "    osc_process() \n",
    "    if data != None:\n",
    "        print(np.array(data)) #,type(data))\n",
    "        if data[0] == 'stop': break\n",
    "        data = None"
   ]
  },
  {
   "cell_type": "code",
   "execution_count": 6,
   "metadata": {},
   "outputs": [],
   "source": [
    "# Properly close the system.\n",
    "osc_terminate()"
   ]
  },
  {
   "cell_type": "code",
   "execution_count": null,
   "metadata": {},
   "outputs": [],
   "source": []
  }
 ],
 "metadata": {
  "kernelspec": {
   "display_name": "Python 3 (ipykernel)",
   "language": "python",
   "name": "python3"
  },
  "language_info": {
   "codemirror_mode": {
    "name": "ipython",
    "version": 3
   },
   "file_extension": ".py",
   "mimetype": "text/x-python",
   "name": "python",
   "nbconvert_exporter": "python",
   "pygments_lexer": "ipython3",
   "version": "3.9.7"
  }
 },
 "nbformat": 4,
 "nbformat_minor": 4
}
