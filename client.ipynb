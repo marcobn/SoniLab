{
 "cells": [
  {
   "cell_type": "code",
   "execution_count": 1,
   "metadata": {},
   "outputs": [],
   "source": [
    "# Import needed modules from osc4py3\n",
    "from osc4py3.as_eventloop import *\n",
    "from osc4py3 import oscbuildparse"
   ]
  },
  {
   "cell_type": "code",
   "execution_count": 2,
   "metadata": {},
   "outputs": [],
   "source": [
    "# Start the system.\n",
    "osc_startup()\n",
    "\n",
    "# Make client channels to send packets.\n",
    "osc_udp_client(\"127.0.0.1\", 8001, \"aclientname\")"
   ]
  },
  {
   "cell_type": "code",
   "execution_count": 3,
   "metadata": {},
   "outputs": [],
   "source": [
    "# Build a simple message and send it.\n",
    "msg = oscbuildparse.OSCMessage(\"/test/me\", \",sif\", [\"text\", 672, 8.871])\n",
    "osc_send(msg, \"aclientname\")\n",
    "osc_process()"
   ]
  },
  {
   "cell_type": "code",
   "execution_count": 22,
   "metadata": {},
   "outputs": [],
   "source": [
    "# Build a message with autodetection of data types, and send it.\n",
    "msg = oscbuildparse.OSCMessage(\"/test/me\", None, [\"color\", 0,255,0])\n",
    "osc_send(msg, \"aclientname\")\n",
    "osc_process()"
   ]
  },
  {
   "cell_type": "code",
   "execution_count": 15,
   "metadata": {},
   "outputs": [],
   "source": [
    "# Build a message with autodetection of data types, and send it.\n",
    "msg = oscbuildparse.OSCMessage(\"/test/me\", None, [\"stop\", 1009])\n",
    "osc_send(msg, \"aclientname\")\n",
    "osc_process()"
   ]
  },
  {
   "cell_type": "code",
   "execution_count": 6,
   "metadata": {},
   "outputs": [],
   "source": [
    "osc_terminate()"
   ]
  },
  {
   "cell_type": "code",
   "execution_count": null,
   "metadata": {},
   "outputs": [],
   "source": []
  }
 ],
 "metadata": {
  "kernelspec": {
   "display_name": "Python 3 (ipykernel)",
   "language": "python",
   "name": "python3"
  },
  "language_info": {
   "codemirror_mode": {
    "name": "ipython",
    "version": 3
   },
   "file_extension": ".py",
   "mimetype": "text/x-python",
   "name": "python",
   "nbconvert_exporter": "python",
   "pygments_lexer": "ipython3",
   "version": "3.9.7"
  }
 },
 "nbformat": 4,
 "nbformat_minor": 4
}
